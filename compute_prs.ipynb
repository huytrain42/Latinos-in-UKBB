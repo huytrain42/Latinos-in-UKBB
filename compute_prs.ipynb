{
 "cells": [
  {
   "cell_type": "markdown",
   "metadata": {},
   "source": [
    "## Standard imports"
   ]
  },
  {
   "cell_type": "code",
   "execution_count": 1,
   "metadata": {},
   "outputs": [
    {
     "name": "stderr",
     "output_type": "stream",
     "text": [
      "Type 'citation(\"pROC\")' for a citation.\n",
      "\n",
      "Attaching package: ‘pROC’\n",
      "\n",
      "The following objects are masked from ‘package:stats’:\n",
      "\n",
      "    cov, smooth, var\n",
      "\n"
     ]
    }
   ],
   "source": [
    "library(pROC)"
   ]
  },
  {
   "cell_type": "markdown",
   "metadata": {},
   "source": [
    "## input data"
   ]
  },
  {
   "cell_type": "code",
   "execution_count": 2,
   "metadata": {},
   "outputs": [],
   "source": [
    "df <- read.csv('df_ukb_mixed_hypertension.csv',sep = '\\t')"
   ]
  },
  {
   "cell_type": "code",
   "execution_count": 3,
   "metadata": {},
   "outputs": [
    {
     "data": {
      "text/html": [
       "1049"
      ],
      "text/latex": [
       "1049"
      ],
      "text/markdown": [
       "1049"
      ],
      "text/plain": [
       "[1] 1049"
      ]
     },
     "metadata": {},
     "output_type": "display_data"
    }
   ],
   "source": [
    "nrow(df)"
   ]
  },
  {
   "cell_type": "code",
   "execution_count": 4,
   "metadata": {},
   "outputs": [
    {
     "data": {
      "text/html": [
       "<table>\n",
       "<thead><tr><th scope=col>eid</th><th scope=col>SCORE</th><th scope=col>Age</th><th scope=col>Sex</th><th scope=col>f.22009.0.1</th><th scope=col>f.22009.0.2</th><th scope=col>f.22009.0.3</th><th scope=col>f.22009.0.4</th><th scope=col>f.22009.0.5</th><th scope=col>f.22009.0.6</th><th scope=col>f.22009.0.7</th><th scope=col>f.22009.0.8</th><th scope=col>f.22009.0.9</th><th scope=col>f.22009.0.10</th><th scope=col>Status</th></tr></thead>\n",
       "<tbody>\n",
       "\t<tr><td>1002463     </td><td>-7.98952e-05</td><td>46          </td><td>Male        </td><td>135.5990    </td><td>-31.658700  </td><td>-19.93120   </td><td>-11.81590   </td><td> 6.143350   </td><td> 71.077300  </td><td>11.62800    </td><td>-32.961500  </td><td> 1.2453500  </td><td> -1.56268000</td><td>0           </td></tr>\n",
       "\t<tr><td>1007992     </td><td>-4.10080e-05</td><td>42          </td><td>Male        </td><td> 98.3576    </td><td> -3.389990  </td><td> -2.22147   </td><td>-13.92700   </td><td> 3.687760   </td><td> 25.106100  </td><td>11.93370    </td><td>-10.547200  </td><td>-5.7829600  </td><td>-13.17420000</td><td>0           </td></tr>\n",
       "\t<tr><td>1009904     </td><td>-5.56312e-05</td><td>56          </td><td>Male        </td><td> 13.1027    </td><td>-20.624100  </td><td> -8.21834   </td><td>-11.61830   </td><td>-1.309080   </td><td> 37.122500  </td><td> 8.24015    </td><td>-18.820700  </td><td>-0.0361297  </td><td> -6.84432000</td><td>1           </td></tr>\n",
       "\t<tr><td>1010159     </td><td>-5.04930e-05</td><td>44          </td><td>Male        </td><td> 64.5167    </td><td>-89.231500  </td><td>-28.87020   </td><td> -7.03910   </td><td>11.152000   </td><td>115.995000  </td><td> 8.92339    </td><td>-54.289500  </td><td> 1.3194200  </td><td> -3.71221000</td><td>0           </td></tr>\n",
       "\t<tr><td>1010617     </td><td>-6.79345e-05</td><td>53          </td><td>Female      </td><td>-13.0740    </td><td>  0.291995  </td><td> -1.88006   </td><td>  5.52323   </td><td> 7.826990   </td><td> -0.393737  </td><td>-3.84222    </td><td>  3.422510  </td><td>-1.6186800  </td><td> -0.00340658</td><td>0           </td></tr>\n",
       "\t<tr><td>1013878     </td><td>-7.68976e-05</td><td>50          </td><td>Female      </td><td> 26.5563    </td><td>-32.753200  </td><td> 22.69520   </td><td> -4.82789   </td><td>-0.561418   </td><td> -2.884670  </td><td> 5.53565    </td><td> -0.800947  </td><td>-1.4572700  </td><td>-16.97250000</td><td>0           </td></tr>\n",
       "</tbody>\n",
       "</table>\n"
      ],
      "text/latex": [
       "\\begin{tabular}{r|lllllllllllllll}\n",
       " eid & SCORE & Age & Sex & f.22009.0.1 & f.22009.0.2 & f.22009.0.3 & f.22009.0.4 & f.22009.0.5 & f.22009.0.6 & f.22009.0.7 & f.22009.0.8 & f.22009.0.9 & f.22009.0.10 & Status\\\\\n",
       "\\hline\n",
       "\t 1002463      & -7.98952e-05 & 46           & Male         & 135.5990     & -31.658700   & -19.93120    & -11.81590    &  6.143350    &  71.077300   & 11.62800     & -32.961500   &  1.2453500   &  -1.56268000 & 0           \\\\\n",
       "\t 1007992      & -4.10080e-05 & 42           & Male         &  98.3576     &  -3.389990   &  -2.22147    & -13.92700    &  3.687760    &  25.106100   & 11.93370     & -10.547200   & -5.7829600   & -13.17420000 & 0           \\\\\n",
       "\t 1009904      & -5.56312e-05 & 56           & Male         &  13.1027     & -20.624100   &  -8.21834    & -11.61830    & -1.309080    &  37.122500   &  8.24015     & -18.820700   & -0.0361297   &  -6.84432000 & 1           \\\\\n",
       "\t 1010159      & -5.04930e-05 & 44           & Male         &  64.5167     & -89.231500   & -28.87020    &  -7.03910    & 11.152000    & 115.995000   &  8.92339     & -54.289500   &  1.3194200   &  -3.71221000 & 0           \\\\\n",
       "\t 1010617      & -6.79345e-05 & 53           & Female       & -13.0740     &   0.291995   &  -1.88006    &   5.52323    &  7.826990    &  -0.393737   & -3.84222     &   3.422510   & -1.6186800   &  -0.00340658 & 0           \\\\\n",
       "\t 1013878      & -7.68976e-05 & 50           & Female       &  26.5563     & -32.753200   &  22.69520    &  -4.82789    & -0.561418    &  -2.884670   &  5.53565     &  -0.800947   & -1.4572700   & -16.97250000 & 0           \\\\\n",
       "\\end{tabular}\n"
      ],
      "text/markdown": [
       "\n",
       "eid | SCORE | Age | Sex | f.22009.0.1 | f.22009.0.2 | f.22009.0.3 | f.22009.0.4 | f.22009.0.5 | f.22009.0.6 | f.22009.0.7 | f.22009.0.8 | f.22009.0.9 | f.22009.0.10 | Status | \n",
       "|---|---|---|---|---|---|\n",
       "| 1002463      | -7.98952e-05 | 46           | Male         | 135.5990     | -31.658700   | -19.93120    | -11.81590    |  6.143350    |  71.077300   | 11.62800     | -32.961500   |  1.2453500   |  -1.56268000 | 0            | \n",
       "| 1007992      | -4.10080e-05 | 42           | Male         |  98.3576     |  -3.389990   |  -2.22147    | -13.92700    |  3.687760    |  25.106100   | 11.93370     | -10.547200   | -5.7829600   | -13.17420000 | 0            | \n",
       "| 1009904      | -5.56312e-05 | 56           | Male         |  13.1027     | -20.624100   |  -8.21834    | -11.61830    | -1.309080    |  37.122500   |  8.24015     | -18.820700   | -0.0361297   |  -6.84432000 | 1            | \n",
       "| 1010159      | -5.04930e-05 | 44           | Male         |  64.5167     | -89.231500   | -28.87020    |  -7.03910    | 11.152000    | 115.995000   |  8.92339     | -54.289500   |  1.3194200   |  -3.71221000 | 0            | \n",
       "| 1010617      | -6.79345e-05 | 53           | Female       | -13.0740     |   0.291995   |  -1.88006    |   5.52323    |  7.826990    |  -0.393737   | -3.84222     |   3.422510   | -1.6186800   |  -0.00340658 | 0            | \n",
       "| 1013878      | -7.68976e-05 | 50           | Female       |  26.5563     | -32.753200   |  22.69520    |  -4.82789    | -0.561418    |  -2.884670   |  5.53565     |  -0.800947   | -1.4572700   | -16.97250000 | 0            | \n",
       "\n",
       "\n"
      ],
      "text/plain": [
       "  eid     SCORE        Age Sex    f.22009.0.1 f.22009.0.2 f.22009.0.3\n",
       "1 1002463 -7.98952e-05 46  Male   135.5990    -31.658700  -19.93120  \n",
       "2 1007992 -4.10080e-05 42  Male    98.3576     -3.389990   -2.22147  \n",
       "3 1009904 -5.56312e-05 56  Male    13.1027    -20.624100   -8.21834  \n",
       "4 1010159 -5.04930e-05 44  Male    64.5167    -89.231500  -28.87020  \n",
       "5 1010617 -6.79345e-05 53  Female -13.0740      0.291995   -1.88006  \n",
       "6 1013878 -7.68976e-05 50  Female  26.5563    -32.753200   22.69520  \n",
       "  f.22009.0.4 f.22009.0.5 f.22009.0.6 f.22009.0.7 f.22009.0.8 f.22009.0.9\n",
       "1 -11.81590    6.143350    71.077300  11.62800    -32.961500   1.2453500 \n",
       "2 -13.92700    3.687760    25.106100  11.93370    -10.547200  -5.7829600 \n",
       "3 -11.61830   -1.309080    37.122500   8.24015    -18.820700  -0.0361297 \n",
       "4  -7.03910   11.152000   115.995000   8.92339    -54.289500   1.3194200 \n",
       "5   5.52323    7.826990    -0.393737  -3.84222      3.422510  -1.6186800 \n",
       "6  -4.82789   -0.561418    -2.884670   5.53565     -0.800947  -1.4572700 \n",
       "  f.22009.0.10 Status\n",
       "1  -1.56268000 0     \n",
       "2 -13.17420000 0     \n",
       "3  -6.84432000 1     \n",
       "4  -3.71221000 0     \n",
       "5  -0.00340658 0     \n",
       "6 -16.97250000 0     "
      ]
     },
     "metadata": {},
     "output_type": "display_data"
    }
   ],
   "source": [
    "head(df)"
   ]
  },
  {
   "cell_type": "code",
   "execution_count": null,
   "metadata": {},
   "outputs": [],
   "source": []
  },
  {
   "cell_type": "code",
   "execution_count": 5,
   "metadata": {},
   "outputs": [],
   "source": [
    "df$SCORE_z <- (df$SCORE-mean(df$SCORE))/sd(df$SCORE)"
   ]
  },
  {
   "cell_type": "code",
   "execution_count": 6,
   "metadata": {},
   "outputs": [
    {
     "data": {
      "text/html": [
       "<dl class=dl-horizontal>\n",
       "\t<dt>eid</dt>\n",
       "\t\t<dd>0</dd>\n",
       "\t<dt>SCORE</dt>\n",
       "\t\t<dd>0</dd>\n",
       "\t<dt>Age</dt>\n",
       "\t\t<dd>0</dd>\n",
       "\t<dt>Sex</dt>\n",
       "\t\t<dd>0</dd>\n",
       "\t<dt>f.22009.0.1</dt>\n",
       "\t\t<dd>0</dd>\n",
       "\t<dt>f.22009.0.2</dt>\n",
       "\t\t<dd>0</dd>\n",
       "\t<dt>f.22009.0.3</dt>\n",
       "\t\t<dd>0</dd>\n",
       "\t<dt>f.22009.0.4</dt>\n",
       "\t\t<dd>0</dd>\n",
       "\t<dt>f.22009.0.5</dt>\n",
       "\t\t<dd>0</dd>\n",
       "\t<dt>f.22009.0.6</dt>\n",
       "\t\t<dd>0</dd>\n",
       "\t<dt>f.22009.0.7</dt>\n",
       "\t\t<dd>0</dd>\n",
       "\t<dt>f.22009.0.8</dt>\n",
       "\t\t<dd>0</dd>\n",
       "\t<dt>f.22009.0.9</dt>\n",
       "\t\t<dd>0</dd>\n",
       "\t<dt>f.22009.0.10</dt>\n",
       "\t\t<dd>0</dd>\n",
       "\t<dt>Status</dt>\n",
       "\t\t<dd>0</dd>\n",
       "\t<dt>SCORE_z</dt>\n",
       "\t\t<dd>0</dd>\n",
       "</dl>\n"
      ],
      "text/latex": [
       "\\begin{description*}\n",
       "\\item[eid] 0\n",
       "\\item[SCORE] 0\n",
       "\\item[Age] 0\n",
       "\\item[Sex] 0\n",
       "\\item[f.22009.0.1] 0\n",
       "\\item[f.22009.0.2] 0\n",
       "\\item[f.22009.0.3] 0\n",
       "\\item[f.22009.0.4] 0\n",
       "\\item[f.22009.0.5] 0\n",
       "\\item[f.22009.0.6] 0\n",
       "\\item[f.22009.0.7] 0\n",
       "\\item[f.22009.0.8] 0\n",
       "\\item[f.22009.0.9] 0\n",
       "\\item[f.22009.0.10] 0\n",
       "\\item[Status] 0\n",
       "\\item[SCORE\\textbackslash{}\\_z] 0\n",
       "\\end{description*}\n"
      ],
      "text/markdown": [
       "eid\n",
       ":   0SCORE\n",
       ":   0Age\n",
       ":   0Sex\n",
       ":   0f.22009.0.1\n",
       ":   0f.22009.0.2\n",
       ":   0f.22009.0.3\n",
       ":   0f.22009.0.4\n",
       ":   0f.22009.0.5\n",
       ":   0f.22009.0.6\n",
       ":   0f.22009.0.7\n",
       ":   0f.22009.0.8\n",
       ":   0f.22009.0.9\n",
       ":   0f.22009.0.10\n",
       ":   0Status\n",
       ":   0SCORE_z\n",
       ":   0\n",
       "\n"
      ],
      "text/plain": [
       "         eid        SCORE          Age          Sex  f.22009.0.1  f.22009.0.2 \n",
       "           0            0            0            0            0            0 \n",
       " f.22009.0.3  f.22009.0.4  f.22009.0.5  f.22009.0.6  f.22009.0.7  f.22009.0.8 \n",
       "           0            0            0            0            0            0 \n",
       " f.22009.0.9 f.22009.0.10       Status      SCORE_z \n",
       "           0            0            0            0 "
      ]
     },
     "metadata": {},
     "output_type": "display_data"
    }
   ],
   "source": [
    "colSums(is.na(df))"
   ]
  },
  {
   "cell_type": "code",
   "execution_count": null,
   "metadata": {},
   "outputs": [],
   "source": []
  },
  {
   "cell_type": "markdown",
   "metadata": {},
   "source": [
    "## Model 1 : PRS Z score only"
   ]
  },
  {
   "cell_type": "code",
   "execution_count": 7,
   "metadata": {},
   "outputs": [],
   "source": [
    "mylogit <- glm(Status ~ SCORE_z, data = df, family = \"binomial\")"
   ]
  },
  {
   "cell_type": "code",
   "execution_count": 8,
   "metadata": {},
   "outputs": [],
   "source": [
    "prob_prs=predict(mylogit,type=c(\"response\"))"
   ]
  },
  {
   "cell_type": "code",
   "execution_count": 9,
   "metadata": {},
   "outputs": [],
   "source": [
    "df$prob_prs=prob_prs"
   ]
  },
  {
   "cell_type": "code",
   "execution_count": 10,
   "metadata": {},
   "outputs": [
    {
     "data": {
      "text/html": [
       "1049"
      ],
      "text/latex": [
       "1049"
      ],
      "text/markdown": [
       "1049"
      ],
      "text/plain": [
       "[1] 1049"
      ]
     },
     "metadata": {},
     "output_type": "display_data"
    }
   ],
   "source": [
    "length(prob_prs)"
   ]
  },
  {
   "cell_type": "code",
   "execution_count": 11,
   "metadata": {
    "scrolled": true
   },
   "outputs": [
    {
     "name": "stderr",
     "output_type": "stream",
     "text": [
      "Setting levels: control = 0, case = 1\n",
      "Setting direction: controls < cases\n"
     ]
    }
   ],
   "source": [
    "g <- roc(Status ~ prob_prs, data = df, ci=TRUE)"
   ]
  },
  {
   "cell_type": "code",
   "execution_count": 12,
   "metadata": {
    "scrolled": true
   },
   "outputs": [
    {
     "data": {
      "text/plain": [
       "\n",
       "Call:\n",
       "roc.formula(formula = Status ~ prob_prs, data = df, ci = TRUE)\n",
       "\n",
       "Data: prob_prs in 854 controls (Status 0) < 195 cases (Status 1).\n",
       "Area under the curve: 0.5411\n",
       "95% CI: 0.4965-0.5856 (DeLong)"
      ]
     },
     "metadata": {},
     "output_type": "display_data"
    }
   ],
   "source": [
    "g"
   ]
  },
  {
   "cell_type": "code",
   "execution_count": null,
   "metadata": {},
   "outputs": [],
   "source": []
  },
  {
   "cell_type": "code",
   "execution_count": 13,
   "metadata": {},
   "outputs": [
    {
     "data": {
      "text/html": [
       "<dl class=dl-horizontal>\n",
       "\t<dt>(Intercept)</dt>\n",
       "\t\t<dd>0.227467769573714</dd>\n",
       "\t<dt>SCORE_z</dt>\n",
       "\t\t<dd>1.11677696686417</dd>\n",
       "</dl>\n"
      ],
      "text/latex": [
       "\\begin{description*}\n",
       "\\item[(Intercept)] 0.227467769573714\n",
       "\\item[SCORE\\textbackslash{}\\_z] 1.11677696686417\n",
       "\\end{description*}\n"
      ],
      "text/markdown": [
       "(Intercept)\n",
       ":   0.227467769573714SCORE_z\n",
       ":   1.11677696686417\n",
       "\n"
      ],
      "text/plain": [
       "(Intercept)     SCORE_z \n",
       "  0.2274678   1.1167770 "
      ]
     },
     "metadata": {},
     "output_type": "display_data"
    }
   ],
   "source": [
    "exp(coef(mylogit))"
   ]
  },
  {
   "cell_type": "code",
   "execution_count": null,
   "metadata": {},
   "outputs": [],
   "source": []
  },
  {
   "cell_type": "code",
   "execution_count": null,
   "metadata": {},
   "outputs": [],
   "source": []
  },
  {
   "cell_type": "markdown",
   "metadata": {},
   "source": [
    "# model 2 : Hypertension ~ Principal Components 1-10"
   ]
  },
  {
   "cell_type": "code",
   "execution_count": 15,
   "metadata": {},
   "outputs": [],
   "source": [
    "mylogit1a <- glm(Status ~ f.22009.0.1+f.22009.0.2+f.22009.0.3+f.22009.0.4+f.22009.0.5+f.22009.0.6+f.22009.0.7+f.22009.0.8+f.22009.0.9+f.22009.0.10, data = df, family = \"binomial\")"
   ]
  },
  {
   "cell_type": "code",
   "execution_count": 16,
   "metadata": {},
   "outputs": [],
   "source": [
    "prob_prs1a=predict(mylogit1a,type=c(\"response\"))"
   ]
  },
  {
   "cell_type": "code",
   "execution_count": 17,
   "metadata": {},
   "outputs": [],
   "source": [
    "df$prob_prs1a=prob_prs1a"
   ]
  },
  {
   "cell_type": "code",
   "execution_count": 18,
   "metadata": {},
   "outputs": [
    {
     "data": {
      "text/html": [
       "1049"
      ],
      "text/latex": [
       "1049"
      ],
      "text/markdown": [
       "1049"
      ],
      "text/plain": [
       "[1] 1049"
      ]
     },
     "metadata": {},
     "output_type": "display_data"
    }
   ],
   "source": [
    "length(prob_prs1a)"
   ]
  },
  {
   "cell_type": "code",
   "execution_count": 19,
   "metadata": {
    "scrolled": true
   },
   "outputs": [
    {
     "name": "stderr",
     "output_type": "stream",
     "text": [
      "Setting levels: control = 0, case = 1\n",
      "Setting direction: controls < cases\n"
     ]
    }
   ],
   "source": [
    "g <- roc(Status ~ prob_prs1a, data = df, ci=TRUE)"
   ]
  },
  {
   "cell_type": "code",
   "execution_count": 20,
   "metadata": {
    "scrolled": true
   },
   "outputs": [
    {
     "data": {
      "text/plain": [
       "\n",
       "Call:\n",
       "roc.formula(formula = Status ~ prob_prs1a, data = df, ci = TRUE)\n",
       "\n",
       "Data: prob_prs1a in 854 controls (Status 0) < 195 cases (Status 1).\n",
       "Area under the curve: 0.5732\n",
       "95% CI: 0.5296-0.6169 (DeLong)"
      ]
     },
     "metadata": {},
     "output_type": "display_data"
    }
   ],
   "source": [
    "g"
   ]
  },
  {
   "cell_type": "code",
   "execution_count": 21,
   "metadata": {},
   "outputs": [
    {
     "data": {
      "text/html": [
       "<dl class=dl-horizontal>\n",
       "\t<dt>(Intercept)</dt>\n",
       "\t\t<dd>0.298572155004368</dd>\n",
       "\t<dt>f.22009.0.1</dt>\n",
       "\t\t<dd>0.99864574485563</dd>\n",
       "\t<dt>f.22009.0.2</dt>\n",
       "\t\t<dd>1.00280903866773</dd>\n",
       "\t<dt>f.22009.0.3</dt>\n",
       "\t\t<dd>1.00048617725507</dd>\n",
       "\t<dt>f.22009.0.4</dt>\n",
       "\t\t<dd>1.01430901261645</dd>\n",
       "\t<dt>f.22009.0.5</dt>\n",
       "\t\t<dd>0.962224857692441</dd>\n",
       "\t<dt>f.22009.0.6</dt>\n",
       "\t\t<dd>1.00012561263085</dd>\n",
       "\t<dt>f.22009.0.7</dt>\n",
       "\t\t<dd>0.996516179829336</dd>\n",
       "\t<dt>f.22009.0.8</dt>\n",
       "\t\t<dd>0.991076462456028</dd>\n",
       "\t<dt>f.22009.0.9</dt>\n",
       "\t\t<dd>0.965192883509072</dd>\n",
       "\t<dt>f.22009.0.10</dt>\n",
       "\t\t<dd>0.989236969009209</dd>\n",
       "</dl>\n"
      ],
      "text/latex": [
       "\\begin{description*}\n",
       "\\item[(Intercept)] 0.298572155004368\n",
       "\\item[f.22009.0.1] 0.99864574485563\n",
       "\\item[f.22009.0.2] 1.00280903866773\n",
       "\\item[f.22009.0.3] 1.00048617725507\n",
       "\\item[f.22009.0.4] 1.01430901261645\n",
       "\\item[f.22009.0.5] 0.962224857692441\n",
       "\\item[f.22009.0.6] 1.00012561263085\n",
       "\\item[f.22009.0.7] 0.996516179829336\n",
       "\\item[f.22009.0.8] 0.991076462456028\n",
       "\\item[f.22009.0.9] 0.965192883509072\n",
       "\\item[f.22009.0.10] 0.989236969009209\n",
       "\\end{description*}\n"
      ],
      "text/markdown": [
       "(Intercept)\n",
       ":   0.298572155004368f.22009.0.1\n",
       ":   0.99864574485563f.22009.0.2\n",
       ":   1.00280903866773f.22009.0.3\n",
       ":   1.00048617725507f.22009.0.4\n",
       ":   1.01430901261645f.22009.0.5\n",
       ":   0.962224857692441f.22009.0.6\n",
       ":   1.00012561263085f.22009.0.7\n",
       ":   0.996516179829336f.22009.0.8\n",
       ":   0.991076462456028f.22009.0.9\n",
       ":   0.965192883509072f.22009.0.10\n",
       ":   0.989236969009209\n",
       "\n"
      ],
      "text/plain": [
       " (Intercept)  f.22009.0.1  f.22009.0.2  f.22009.0.3  f.22009.0.4  f.22009.0.5 \n",
       "   0.2985722    0.9986457    1.0028090    1.0004862    1.0143090    0.9622249 \n",
       " f.22009.0.6  f.22009.0.7  f.22009.0.8  f.22009.0.9 f.22009.0.10 \n",
       "   1.0001256    0.9965162    0.9910765    0.9651929    0.9892370 "
      ]
     },
     "metadata": {},
     "output_type": "display_data"
    }
   ],
   "source": [
    "exp(coef(mylogit1a))"
   ]
  },
  {
   "cell_type": "code",
   "execution_count": null,
   "metadata": {},
   "outputs": [],
   "source": []
  },
  {
   "cell_type": "markdown",
   "metadata": {},
   "source": [
    "## model 3 :  Hypertension ~ Sex and Age"
   ]
  },
  {
   "cell_type": "code",
   "execution_count": 22,
   "metadata": {},
   "outputs": [],
   "source": [
    "mylogit3a <- glm(Status ~ Sex+Age, data = df, family = \"binomial\")  "
   ]
  },
  {
   "cell_type": "code",
   "execution_count": 23,
   "metadata": {},
   "outputs": [],
   "source": [
    "prob_prs3a=predict(mylogit3a,type=c(\"response\"))"
   ]
  },
  {
   "cell_type": "code",
   "execution_count": 24,
   "metadata": {},
   "outputs": [],
   "source": [
    "df$prob_prs3a = prob_prs3a"
   ]
  },
  {
   "cell_type": "code",
   "execution_count": 25,
   "metadata": {},
   "outputs": [
    {
     "data": {
      "text/html": [
       "1049"
      ],
      "text/latex": [
       "1049"
      ],
      "text/markdown": [
       "1049"
      ],
      "text/plain": [
       "[1] 1049"
      ]
     },
     "metadata": {},
     "output_type": "display_data"
    }
   ],
   "source": [
    "length(prob_prs3a)"
   ]
  },
  {
   "cell_type": "code",
   "execution_count": 26,
   "metadata": {
    "scrolled": true
   },
   "outputs": [
    {
     "name": "stderr",
     "output_type": "stream",
     "text": [
      "Setting levels: control = 0, case = 1\n",
      "Setting direction: controls < cases\n"
     ]
    }
   ],
   "source": [
    "g <- roc(Status ~ prob_prs3a, data = df, ci=TRUE)"
   ]
  },
  {
   "cell_type": "code",
   "execution_count": 27,
   "metadata": {
    "scrolled": true
   },
   "outputs": [
    {
     "data": {
      "text/plain": [
       "\n",
       "Call:\n",
       "roc.formula(formula = Status ~ prob_prs3a, data = df, ci = TRUE)\n",
       "\n",
       "Data: prob_prs3a in 854 controls (Status 0) < 195 cases (Status 1).\n",
       "Area under the curve: 0.7479\n",
       "95% CI: 0.7092-0.7867 (DeLong)"
      ]
     },
     "metadata": {},
     "output_type": "display_data"
    }
   ],
   "source": [
    "g"
   ]
  },
  {
   "cell_type": "code",
   "execution_count": 28,
   "metadata": {},
   "outputs": [
    {
     "data": {
      "text/html": [
       "<dl class=dl-horizontal>\n",
       "\t<dt>(Intercept)</dt>\n",
       "\t\t<dd>0.00034496983966604</dd>\n",
       "\t<dt>SexMale</dt>\n",
       "\t\t<dd>1.63462995851846</dd>\n",
       "\t<dt>Age</dt>\n",
       "\t\t<dd>1.12134928186551</dd>\n",
       "</dl>\n"
      ],
      "text/latex": [
       "\\begin{description*}\n",
       "\\item[(Intercept)] 0.00034496983966604\n",
       "\\item[SexMale] 1.63462995851846\n",
       "\\item[Age] 1.12134928186551\n",
       "\\end{description*}\n"
      ],
      "text/markdown": [
       "(Intercept)\n",
       ":   0.00034496983966604SexMale\n",
       ":   1.63462995851846Age\n",
       ":   1.12134928186551\n",
       "\n"
      ],
      "text/plain": [
       " (Intercept)      SexMale          Age \n",
       "0.0003449698 1.6346299585 1.1213492819 "
      ]
     },
     "metadata": {},
     "output_type": "display_data"
    }
   ],
   "source": [
    "exp(coef(mylogit3a))"
   ]
  },
  {
   "cell_type": "code",
   "execution_count": null,
   "metadata": {},
   "outputs": [],
   "source": []
  },
  {
   "cell_type": "markdown",
   "metadata": {},
   "source": [
    "## model 3c: Hypertension ~ PRS_Zscore + Sex + Age"
   ]
  },
  {
   "cell_type": "code",
   "execution_count": 29,
   "metadata": {},
   "outputs": [],
   "source": [
    "mylogit3c <- glm(Status ~ SCORE_z+Sex+Age, data = df, family = \"binomial\")  "
   ]
  },
  {
   "cell_type": "code",
   "execution_count": 30,
   "metadata": {},
   "outputs": [],
   "source": [
    "prob_prs3c=predict(mylogit3c,type=c(\"response\"))"
   ]
  },
  {
   "cell_type": "code",
   "execution_count": 31,
   "metadata": {},
   "outputs": [],
   "source": [
    "df$prob_prs3c = prob_prs3c"
   ]
  },
  {
   "cell_type": "code",
   "execution_count": 32,
   "metadata": {},
   "outputs": [
    {
     "data": {
      "text/html": [
       "1049"
      ],
      "text/latex": [
       "1049"
      ],
      "text/markdown": [
       "1049"
      ],
      "text/plain": [
       "[1] 1049"
      ]
     },
     "metadata": {},
     "output_type": "display_data"
    }
   ],
   "source": [
    "length(prob_prs3c)"
   ]
  },
  {
   "cell_type": "code",
   "execution_count": 33,
   "metadata": {
    "scrolled": true
   },
   "outputs": [
    {
     "name": "stderr",
     "output_type": "stream",
     "text": [
      "Setting levels: control = 0, case = 1\n",
      "Setting direction: controls < cases\n"
     ]
    }
   ],
   "source": [
    "g <- roc(Status ~ prob_prs3c, data = df, ci=TRUE)"
   ]
  },
  {
   "cell_type": "code",
   "execution_count": 34,
   "metadata": {
    "scrolled": true
   },
   "outputs": [
    {
     "data": {
      "text/plain": [
       "\n",
       "Call:\n",
       "roc.formula(formula = Status ~ prob_prs3c, data = df, ci = TRUE)\n",
       "\n",
       "Data: prob_prs3c in 854 controls (Status 0) < 195 cases (Status 1).\n",
       "Area under the curve: 0.7505\n",
       "95% CI: 0.7121-0.7889 (DeLong)"
      ]
     },
     "metadata": {},
     "output_type": "display_data"
    }
   ],
   "source": [
    "g"
   ]
  },
  {
   "cell_type": "code",
   "execution_count": 35,
   "metadata": {
    "scrolled": true
   },
   "outputs": [
    {
     "data": {
      "text/html": [
       "<dl class=dl-horizontal>\n",
       "\t<dt>(Intercept)</dt>\n",
       "\t\t<dd>0.000341995677815749</dd>\n",
       "\t<dt>SCORE_z</dt>\n",
       "\t\t<dd>1.12707096591139</dd>\n",
       "\t<dt>SexMale</dt>\n",
       "\t\t<dd>1.64688895415368</dd>\n",
       "\t<dt>Age</dt>\n",
       "\t\t<dd>1.12138641220886</dd>\n",
       "</dl>\n"
      ],
      "text/latex": [
       "\\begin{description*}\n",
       "\\item[(Intercept)] 0.000341995677815749\n",
       "\\item[SCORE\\textbackslash{}\\_z] 1.12707096591139\n",
       "\\item[SexMale] 1.64688895415368\n",
       "\\item[Age] 1.12138641220886\n",
       "\\end{description*}\n"
      ],
      "text/markdown": [
       "(Intercept)\n",
       ":   0.000341995677815749SCORE_z\n",
       ":   1.12707096591139SexMale\n",
       ":   1.64688895415368Age\n",
       ":   1.12138641220886\n",
       "\n"
      ],
      "text/plain": [
       " (Intercept)      SCORE_z      SexMale          Age \n",
       "0.0003419957 1.1270709659 1.6468889542 1.1213864122 "
      ]
     },
     "metadata": {},
     "output_type": "display_data"
    }
   ],
   "source": [
    "exp(coef(mylogit3c))"
   ]
  },
  {
   "cell_type": "code",
   "execution_count": null,
   "metadata": {},
   "outputs": [],
   "source": []
  },
  {
   "cell_type": "markdown",
   "metadata": {},
   "source": [
    "## Full model"
   ]
  },
  {
   "cell_type": "code",
   "execution_count": 37,
   "metadata": {},
   "outputs": [],
   "source": [
    "mylogit4 <- glm(Status ~ SCORE_z+Sex+Age+f.22009.0.1+f.22009.0.2+f.22009.0.3+f.22009.0.4+f.22009.0.5+f.22009.0.6+f.22009.0.7+f.22009.0.8+f.22009.0.9+f.22009.0.10, data = df, family = \"binomial\")"
   ]
  },
  {
   "cell_type": "code",
   "execution_count": 38,
   "metadata": {},
   "outputs": [],
   "source": [
    "prob_prs4=predict(mylogit4,type=c(\"response\"))"
   ]
  },
  {
   "cell_type": "code",
   "execution_count": 39,
   "metadata": {},
   "outputs": [],
   "source": [
    "df$prob_prs4=prob_prs4"
   ]
  },
  {
   "cell_type": "code",
   "execution_count": 40,
   "metadata": {},
   "outputs": [
    {
     "data": {
      "text/html": [
       "1049"
      ],
      "text/latex": [
       "1049"
      ],
      "text/markdown": [
       "1049"
      ],
      "text/plain": [
       "[1] 1049"
      ]
     },
     "metadata": {},
     "output_type": "display_data"
    }
   ],
   "source": [
    "length(prob_prs4)"
   ]
  },
  {
   "cell_type": "code",
   "execution_count": 41,
   "metadata": {
    "scrolled": true
   },
   "outputs": [
    {
     "name": "stderr",
     "output_type": "stream",
     "text": [
      "Setting levels: control = 0, case = 1\n",
      "Setting direction: controls < cases\n"
     ]
    }
   ],
   "source": [
    "g <- roc(Status ~ prob_prs4, data = df, ci=TRUE)"
   ]
  },
  {
   "cell_type": "code",
   "execution_count": 42,
   "metadata": {
    "scrolled": true
   },
   "outputs": [
    {
     "data": {
      "text/plain": [
       "\n",
       "Call:\n",
       "roc.formula(formula = Status ~ prob_prs4, data = df, ci = TRUE)\n",
       "\n",
       "Data: prob_prs4 in 854 controls (Status 0) < 195 cases (Status 1).\n",
       "Area under the curve: 0.7623\n",
       "95% CI: 0.7243-0.8003 (DeLong)"
      ]
     },
     "metadata": {},
     "output_type": "display_data"
    }
   ],
   "source": [
    "g"
   ]
  },
  {
   "cell_type": "code",
   "execution_count": 43,
   "metadata": {},
   "outputs": [
    {
     "data": {
      "text/html": [
       "<dl class=dl-horizontal>\n",
       "\t<dt>(Intercept)</dt>\n",
       "\t\t<dd>0.000174514755489147</dd>\n",
       "\t<dt>SCORE_z</dt>\n",
       "\t\t<dd>1.1097647689387</dd>\n",
       "\t<dt>SexMale</dt>\n",
       "\t\t<dd>1.77091791232487</dd>\n",
       "\t<dt>Age</dt>\n",
       "\t\t<dd>1.13121761506783</dd>\n",
       "\t<dt>f.22009.0.1</dt>\n",
       "\t\t<dd>1.00520352518449</dd>\n",
       "\t<dt>f.22009.0.2</dt>\n",
       "\t\t<dd>1.00268623894595</dd>\n",
       "\t<dt>f.22009.0.3</dt>\n",
       "\t\t<dd>1.00718221683697</dd>\n",
       "\t<dt>f.22009.0.4</dt>\n",
       "\t\t<dd>1.011552530748</dd>\n",
       "\t<dt>f.22009.0.5</dt>\n",
       "\t\t<dd>0.958156005290716</dd>\n",
       "\t<dt>f.22009.0.6</dt>\n",
       "\t\t<dd>1.00895240022475</dd>\n",
       "\t<dt>f.22009.0.7</dt>\n",
       "\t\t<dd>0.996667602494094</dd>\n",
       "\t<dt>f.22009.0.8</dt>\n",
       "\t\t<dd>1.00450518635086</dd>\n",
       "\t<dt>f.22009.0.9</dt>\n",
       "\t\t<dd>0.948173434641319</dd>\n",
       "\t<dt>f.22009.0.10</dt>\n",
       "\t\t<dd>0.976933205381721</dd>\n",
       "</dl>\n"
      ],
      "text/latex": [
       "\\begin{description*}\n",
       "\\item[(Intercept)] 0.000174514755489147\n",
       "\\item[SCORE\\textbackslash{}\\_z] 1.1097647689387\n",
       "\\item[SexMale] 1.77091791232487\n",
       "\\item[Age] 1.13121761506783\n",
       "\\item[f.22009.0.1] 1.00520352518449\n",
       "\\item[f.22009.0.2] 1.00268623894595\n",
       "\\item[f.22009.0.3] 1.00718221683697\n",
       "\\item[f.22009.0.4] 1.011552530748\n",
       "\\item[f.22009.0.5] 0.958156005290716\n",
       "\\item[f.22009.0.6] 1.00895240022475\n",
       "\\item[f.22009.0.7] 0.996667602494094\n",
       "\\item[f.22009.0.8] 1.00450518635086\n",
       "\\item[f.22009.0.9] 0.948173434641319\n",
       "\\item[f.22009.0.10] 0.976933205381721\n",
       "\\end{description*}\n"
      ],
      "text/markdown": [
       "(Intercept)\n",
       ":   0.000174514755489147SCORE_z\n",
       ":   1.1097647689387SexMale\n",
       ":   1.77091791232487Age\n",
       ":   1.13121761506783f.22009.0.1\n",
       ":   1.00520352518449f.22009.0.2\n",
       ":   1.00268623894595f.22009.0.3\n",
       ":   1.00718221683697f.22009.0.4\n",
       ":   1.011552530748f.22009.0.5\n",
       ":   0.958156005290716f.22009.0.6\n",
       ":   1.00895240022475f.22009.0.7\n",
       ":   0.996667602494094f.22009.0.8\n",
       ":   1.00450518635086f.22009.0.9\n",
       ":   0.948173434641319f.22009.0.10\n",
       ":   0.976933205381721\n",
       "\n"
      ],
      "text/plain": [
       " (Intercept)      SCORE_z      SexMale          Age  f.22009.0.1  f.22009.0.2 \n",
       "0.0001745148 1.1097647689 1.7709179123 1.1312176151 1.0052035252 1.0026862389 \n",
       " f.22009.0.3  f.22009.0.4  f.22009.0.5  f.22009.0.6  f.22009.0.7  f.22009.0.8 \n",
       "1.0071822168 1.0115525307 0.9581560053 1.0089524002 0.9966676025 1.0045051864 \n",
       " f.22009.0.9 f.22009.0.10 \n",
       "0.9481734346 0.9769332054 "
      ]
     },
     "metadata": {},
     "output_type": "display_data"
    }
   ],
   "source": [
    "exp(coef(mylogit4))"
   ]
  },
  {
   "cell_type": "code",
   "execution_count": null,
   "metadata": {},
   "outputs": [],
   "source": []
  },
  {
   "cell_type": "code",
   "execution_count": null,
   "metadata": {},
   "outputs": [],
   "source": []
  },
  {
   "cell_type": "code",
   "execution_count": null,
   "metadata": {},
   "outputs": [],
   "source": []
  },
  {
   "cell_type": "code",
   "execution_count": null,
   "metadata": {},
   "outputs": [],
   "source": []
  }
 ],
 "metadata": {
  "kernelspec": {
   "display_name": "R",
   "language": "R",
   "name": "ir"
  },
  "language_info": {
   "codemirror_mode": "r",
   "file_extension": ".r",
   "mimetype": "text/x-r-source",
   "name": "R",
   "pygments_lexer": "r",
   "version": "3.5.1"
  }
 },
 "nbformat": 4,
 "nbformat_minor": 4
}
